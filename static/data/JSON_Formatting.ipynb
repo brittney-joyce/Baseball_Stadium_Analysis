{
 "cells": [
  {
   "cell_type": "code",
   "execution_count": 1,
   "metadata": {},
   "outputs": [],
   "source": [
    "import csv\n",
    "import json"
   ]
  },
  {
   "cell_type": "code",
   "execution_count": 2,
   "metadata": {},
   "outputs": [],
   "source": [
    "csvfile = open('mlb_finances.csv', 'r')\n",
    "jsonfile = open('file.json','w')"
   ]
  },
  {
   "cell_type": "code",
   "execution_count": 3,
   "metadata": {},
   "outputs": [],
   "source": [
    "fieldnames = (\"Team\",\"2011 Value\", \"2011 1 Year Change\", \"2011 Operating Income\",\"2012 Value\", \"2012 1 Year Change\", \"2012 Operating Income\", \"2013 Value\", \"2013 Revenue\", \"2013 Operating Income\", \"2014 Value\", \"2014 Revenue\", \"2014 Operating Income\", \"2015 Value\", \"2015 Revenue\", \"2015 Operating Income\", \"2016 Value\", \"2016 Revenue\", \"2016 Operating Income\", \"2017 Value\", \"2017 Revenue\", \"2017 Operating Income\")\n",
    "reader = csv.DictReader(csvfile, fieldnames)\n",
    "for row in reader:\n",
    "    json.dump(row, jsonfile)\n",
    "    jsonfile.write('\\n')\n",
    "    "
   ]
  },
  {
   "cell_type": "code",
   "execution_count": null,
   "metadata": {},
   "outputs": [],
   "source": []
  }
 ],
 "metadata": {
  "kernelspec": {
   "display_name": "Python 3",
   "language": "python",
   "name": "python3"
  },
  "language_info": {
   "codemirror_mode": {
    "name": "ipython",
    "version": 3
   },
   "file_extension": ".py",
   "mimetype": "text/x-python",
   "name": "python",
   "nbconvert_exporter": "python",
   "pygments_lexer": "ipython3",
   "version": "3.6.0"
  }
 },
 "nbformat": 4,
 "nbformat_minor": 2
}
