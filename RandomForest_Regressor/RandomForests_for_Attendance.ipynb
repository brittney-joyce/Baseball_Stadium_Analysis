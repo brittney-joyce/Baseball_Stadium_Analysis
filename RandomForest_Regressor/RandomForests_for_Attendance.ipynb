{
 "cells": [
  {
   "cell_type": "markdown",
   "metadata": {},
   "source": [
    "# Random Forest Regressor to predict Attendance (using Scitkit-learn, PyMySQl SQLAlchemy, MySQL)"
   ]
  },
  {
   "cell_type": "code",
   "execution_count": 1,
   "metadata": {
    "collapsed": true
   },
   "outputs": [],
   "source": [
    "#import libraries/dependencies\n",
    "from sklearn.ensemble import RandomForestRegressor\n",
    "import pandas as pd\n",
    "from sqlalchemy import create_engine\n",
    "import pymysql"
   ]
  },
  {
   "cell_type": "code",
   "execution_count": 2,
   "metadata": {},
   "outputs": [],
   "source": [
    "#import login credentials. This file is ignored via the gitignore file\n",
    "from config import user, password"
   ]
  },
  {
   "cell_type": "code",
   "execution_count": 3,
   "metadata": {
    "collapsed": true
   },
   "outputs": [],
   "source": [
    "# Python SQL toolkit and Object Relational Mapper\n",
    "import sqlalchemy\n",
    "from sqlalchemy import create_engine, MetaData\n",
    "from sqlalchemy.ext.declarative import declarative_base\n",
    "from sqlalchemy import Column, Integer, String, Numeric, Text, Float, Date"
   ]
  },
  {
   "cell_type": "code",
   "execution_count": 4,
   "metadata": {},
   "outputs": [],
   "source": [
    "#create connection to MySQL Database\n",
    "pymysql.install_as_MySQLdb()\n",
    "engine = create_engine('mysql://' + user + ':' + password + '@imdb-project.cj1m13sfkxlg.us-east-2.rds.amazonaws.com:3306/baseball')"
   ]
  },
  {
   "cell_type": "markdown",
   "metadata": {},
   "source": [
    "# Data Processing"
   ]
  },
  {
   "cell_type": "code",
   "execution_count": 5,
   "metadata": {},
   "outputs": [],
   "source": [
    "#use pandas for reading data from your MySQL server:\n",
    "df = pd.read_sql('SELECT * FROM Dodgers', con=engine)"
   ]
  },
  {
   "cell_type": "code",
   "execution_count": 35,
   "metadata": {},
   "outputs": [],
   "source": [
    "#SQL query to get our df\n",
    "\n",
    "query= \"\"\"\n",
    "SELECT Game as Game_ID, `Number` as Opponent_Number,\n",
    "REPLACE(LEFT(YYYYMMDD,10),'-','') as Date,\n",
    "CASE WHEN DAYOFWEEK(YYYYMMDD)= 1 OR DAYOFWEEK(YYYYMMDD) = 7 THEN '1' ELSE '0' END as Is_Weekend,\n",
    "Month(YYYYMMDD) as Month,\n",
    "Year(YYYYMMDD) as Year,\n",
    "CASE WHEN `D/N` = 'D' THEN 1 ELSE 0 END as Is_Day, \n",
    "LENGTH(Streak) - LENGTH(REPLACE(Streak,'+','')) as Win_Streak,\n",
    "`W-L`,\n",
    "Bobble_head,\n",
    "precip,\n",
    "Temp,\n",
    "Attendance\n",
    "FROM Dodgers_data as dodger\n",
    "LEFT JOIN Opponent_Map as map on dodger.Opponent = map.Opponent\n",
    "\"\"\""
   ]
  },
  {
   "cell_type": "code",
   "execution_count": 7,
   "metadata": {},
   "outputs": [
    {
     "data": {
      "text/html": [
       "<div>\n",
       "<style>\n",
       "    .dataframe thead tr:only-child th {\n",
       "        text-align: right;\n",
       "    }\n",
       "\n",
       "    .dataframe thead th {\n",
       "        text-align: left;\n",
       "    }\n",
       "\n",
       "    .dataframe tbody tr th {\n",
       "        vertical-align: top;\n",
       "    }\n",
       "</style>\n",
       "<table border=\"1\" class=\"dataframe\">\n",
       "  <thead>\n",
       "    <tr style=\"text-align: right;\">\n",
       "      <th></th>\n",
       "      <th>Game_ID</th>\n",
       "      <th>Opponent_Number</th>\n",
       "      <th>Is_Weekend</th>\n",
       "      <th>Month</th>\n",
       "      <th>Year</th>\n",
       "      <th>Is_Day</th>\n",
       "      <th>Win_Streak</th>\n",
       "      <th>W-L</th>\n",
       "      <th>Bobble_head</th>\n",
       "      <th>precip</th>\n",
       "      <th>Temp</th>\n",
       "      <th>Attendance</th>\n",
       "    </tr>\n",
       "  </thead>\n",
       "  <tbody>\n",
       "    <tr>\n",
       "      <th>0</th>\n",
       "      <td>1</td>\n",
       "      <td>1</td>\n",
       "      <td>0</td>\n",
       "      <td>4</td>\n",
       "      <td>2017</td>\n",
       "      <td>1</td>\n",
       "      <td>1</td>\n",
       "      <td>01-00</td>\n",
       "      <td>0</td>\n",
       "      <td>0.0</td>\n",
       "      <td>60.0</td>\n",
       "      <td>53701</td>\n",
       "    </tr>\n",
       "    <tr>\n",
       "      <th>1</th>\n",
       "      <td>2</td>\n",
       "      <td>1</td>\n",
       "      <td>0</td>\n",
       "      <td>4</td>\n",
       "      <td>2017</td>\n",
       "      <td>0</td>\n",
       "      <td>0</td>\n",
       "      <td>01-01</td>\n",
       "      <td>0</td>\n",
       "      <td>0.0</td>\n",
       "      <td>62.0</td>\n",
       "      <td>42196</td>\n",
       "    </tr>\n",
       "    <tr>\n",
       "      <th>2</th>\n",
       "      <td>3</td>\n",
       "      <td>1</td>\n",
       "      <td>0</td>\n",
       "      <td>4</td>\n",
       "      <td>2017</td>\n",
       "      <td>0</td>\n",
       "      <td>1</td>\n",
       "      <td>02-01</td>\n",
       "      <td>0</td>\n",
       "      <td>0.0</td>\n",
       "      <td>67.0</td>\n",
       "      <td>38373</td>\n",
       "    </tr>\n",
       "    <tr>\n",
       "      <th>3</th>\n",
       "      <td>4</td>\n",
       "      <td>1</td>\n",
       "      <td>0</td>\n",
       "      <td>4</td>\n",
       "      <td>2017</td>\n",
       "      <td>1</td>\n",
       "      <td>2</td>\n",
       "      <td>03-01</td>\n",
       "      <td>0</td>\n",
       "      <td>0.0</td>\n",
       "      <td>66.0</td>\n",
       "      <td>36501</td>\n",
       "    </tr>\n",
       "    <tr>\n",
       "      <th>4</th>\n",
       "      <td>115</td>\n",
       "      <td>1</td>\n",
       "      <td>0</td>\n",
       "      <td>8</td>\n",
       "      <td>2017</td>\n",
       "      <td>0</td>\n",
       "      <td>0</td>\n",
       "      <td>81-34</td>\n",
       "      <td>0</td>\n",
       "      <td>0.0</td>\n",
       "      <td>86.0</td>\n",
       "      <td>52898</td>\n",
       "    </tr>\n",
       "  </tbody>\n",
       "</table>\n",
       "</div>"
      ],
      "text/plain": [
       "   Game_ID  Opponent_Number Is_Weekend  Month  Year  Is_Day  Win_Streak  \\\n",
       "0        1                1          0      4  2017       1           1   \n",
       "1        2                1          0      4  2017       0           0   \n",
       "2        3                1          0      4  2017       0           1   \n",
       "3        4                1          0      4  2017       1           2   \n",
       "4      115                1          0      8  2017       0           0   \n",
       "\n",
       "     W-L  Bobble_head  precip  Temp  Attendance  \n",
       "0  01-00            0     0.0  60.0       53701  \n",
       "1  01-01            0     0.0  62.0       42196  \n",
       "2  02-01            0     0.0  67.0       38373  \n",
       "3  03-01            0     0.0  66.0       36501  \n",
       "4  81-34            0     0.0  86.0       52898  "
      ]
     },
     "execution_count": 7,
     "metadata": {},
     "output_type": "execute_result"
    }
   ],
   "source": [
    "#Change 'Attendance' to integer\n",
    "df2 = pd.read_sql_query(query,engine)\n",
    "df2['Attendance'] = df2['Attendance'].str.replace(',', '')\n",
    "df2['Attendance'] = df2['Attendance'].astype(int)\n",
    "df2.drop('Date', axis=1, inplace=True)\n",
    "df2.head()"
   ]
  },
  {
   "cell_type": "code",
   "execution_count": 8,
   "metadata": {
    "collapsed": true
   },
   "outputs": [],
   "source": [
    "#remove/reformat null values from W-L column\n",
    "Winning_Per = [] \n",
    "Win_Per = []\n",
    "for element in df2[\"W-L\"]:\n",
    "   \n",
    "    Winning_Per.append(element.replace('-', ' ').split(' '))\n",
    "    \n",
    "for thing in Winning_Per:\n",
    "    Win_Per.append(float(thing[0]) /(float(thing[0]) + float(thing[1])))"
   ]
  },
  {
   "cell_type": "code",
   "execution_count": 44,
   "metadata": {
    "collapsed": true
   },
   "outputs": [],
   "source": [
    "#Let's use the modified Win Percentage input data we just created\n",
    "df2[\"Win_Per\"] = Win_Per"
   ]
  },
  {
   "cell_type": "code",
   "execution_count": 10,
   "metadata": {
    "collapsed": true
   },
   "outputs": [],
   "source": [
    "#targeting Attendance\n",
    "target = df2[\"Attendance\"]\n",
    "target_names = [\"Attendance\"]"
   ]
  },
  {
   "cell_type": "code",
   "execution_count": 11,
   "metadata": {},
   "outputs": [
    {
     "data": {
      "text/html": [
       "<div>\n",
       "<style>\n",
       "    .dataframe thead tr:only-child th {\n",
       "        text-align: right;\n",
       "    }\n",
       "\n",
       "    .dataframe thead th {\n",
       "        text-align: left;\n",
       "    }\n",
       "\n",
       "    .dataframe tbody tr th {\n",
       "        vertical-align: top;\n",
       "    }\n",
       "</style>\n",
       "<table border=\"1\" class=\"dataframe\">\n",
       "  <thead>\n",
       "    <tr style=\"text-align: right;\">\n",
       "      <th></th>\n",
       "      <th>Game_ID</th>\n",
       "      <th>Opponent_Number</th>\n",
       "      <th>Is_Weekend</th>\n",
       "      <th>Month</th>\n",
       "      <th>Year</th>\n",
       "      <th>Is_Day</th>\n",
       "      <th>Win_Streak</th>\n",
       "      <th>W-L</th>\n",
       "      <th>Bobble_head</th>\n",
       "      <th>precip</th>\n",
       "      <th>Temp</th>\n",
       "      <th>Win_Per</th>\n",
       "    </tr>\n",
       "  </thead>\n",
       "  <tbody>\n",
       "    <tr>\n",
       "      <th>0</th>\n",
       "      <td>1</td>\n",
       "      <td>1</td>\n",
       "      <td>0</td>\n",
       "      <td>4</td>\n",
       "      <td>2017</td>\n",
       "      <td>1</td>\n",
       "      <td>1</td>\n",
       "      <td>01-00</td>\n",
       "      <td>0</td>\n",
       "      <td>0.0</td>\n",
       "      <td>60.0</td>\n",
       "      <td>1.000000</td>\n",
       "    </tr>\n",
       "    <tr>\n",
       "      <th>1</th>\n",
       "      <td>2</td>\n",
       "      <td>1</td>\n",
       "      <td>0</td>\n",
       "      <td>4</td>\n",
       "      <td>2017</td>\n",
       "      <td>0</td>\n",
       "      <td>0</td>\n",
       "      <td>01-01</td>\n",
       "      <td>0</td>\n",
       "      <td>0.0</td>\n",
       "      <td>62.0</td>\n",
       "      <td>0.500000</td>\n",
       "    </tr>\n",
       "    <tr>\n",
       "      <th>2</th>\n",
       "      <td>3</td>\n",
       "      <td>1</td>\n",
       "      <td>0</td>\n",
       "      <td>4</td>\n",
       "      <td>2017</td>\n",
       "      <td>0</td>\n",
       "      <td>1</td>\n",
       "      <td>02-01</td>\n",
       "      <td>0</td>\n",
       "      <td>0.0</td>\n",
       "      <td>67.0</td>\n",
       "      <td>0.666667</td>\n",
       "    </tr>\n",
       "    <tr>\n",
       "      <th>3</th>\n",
       "      <td>4</td>\n",
       "      <td>1</td>\n",
       "      <td>0</td>\n",
       "      <td>4</td>\n",
       "      <td>2017</td>\n",
       "      <td>1</td>\n",
       "      <td>2</td>\n",
       "      <td>03-01</td>\n",
       "      <td>0</td>\n",
       "      <td>0.0</td>\n",
       "      <td>66.0</td>\n",
       "      <td>0.750000</td>\n",
       "    </tr>\n",
       "    <tr>\n",
       "      <th>4</th>\n",
       "      <td>115</td>\n",
       "      <td>1</td>\n",
       "      <td>0</td>\n",
       "      <td>8</td>\n",
       "      <td>2017</td>\n",
       "      <td>0</td>\n",
       "      <td>0</td>\n",
       "      <td>81-34</td>\n",
       "      <td>0</td>\n",
       "      <td>0.0</td>\n",
       "      <td>86.0</td>\n",
       "      <td>0.704348</td>\n",
       "    </tr>\n",
       "  </tbody>\n",
       "</table>\n",
       "</div>"
      ],
      "text/plain": [
       "   Game_ID  Opponent_Number Is_Weekend  Month  Year  Is_Day  Win_Streak  \\\n",
       "0        1                1          0      4  2017       1           1   \n",
       "1        2                1          0      4  2017       0           0   \n",
       "2        3                1          0      4  2017       0           1   \n",
       "3        4                1          0      4  2017       1           2   \n",
       "4      115                1          0      8  2017       0           0   \n",
       "\n",
       "     W-L  Bobble_head  precip  Temp   Win_Per  \n",
       "0  01-00            0     0.0  60.0  1.000000  \n",
       "1  01-01            0     0.0  62.0  0.500000  \n",
       "2  02-01            0     0.0  67.0  0.666667  \n",
       "3  03-01            0     0.0  66.0  0.750000  \n",
       "4  81-34            0     0.0  86.0  0.704348  "
      ]
     },
     "execution_count": 11,
     "metadata": {},
     "output_type": "execute_result"
    }
   ],
   "source": [
    "#drop Attendance\n",
    "df3 = df2.drop(\"Attendance\", axis=1)\n",
    "feature_names = df3.columns\n",
    "df3.head(5)"
   ]
  },
  {
   "cell_type": "code",
   "execution_count": 12,
   "metadata": {},
   "outputs": [
    {
     "data": {
      "text/html": [
       "<div>\n",
       "<style>\n",
       "    .dataframe thead tr:only-child th {\n",
       "        text-align: right;\n",
       "    }\n",
       "\n",
       "    .dataframe thead th {\n",
       "        text-align: left;\n",
       "    }\n",
       "\n",
       "    .dataframe tbody tr th {\n",
       "        vertical-align: top;\n",
       "    }\n",
       "</style>\n",
       "<table border=\"1\" class=\"dataframe\">\n",
       "  <thead>\n",
       "    <tr style=\"text-align: right;\">\n",
       "      <th></th>\n",
       "      <th>Game_ID</th>\n",
       "      <th>Opponent_Number</th>\n",
       "      <th>Is_Weekend</th>\n",
       "      <th>Month</th>\n",
       "      <th>Year</th>\n",
       "      <th>Is_Day</th>\n",
       "      <th>Win_Streak</th>\n",
       "      <th>Bobble_head</th>\n",
       "      <th>precip</th>\n",
       "      <th>Temp</th>\n",
       "      <th>Win_Per</th>\n",
       "    </tr>\n",
       "  </thead>\n",
       "  <tbody>\n",
       "    <tr>\n",
       "      <th>0</th>\n",
       "      <td>1</td>\n",
       "      <td>1</td>\n",
       "      <td>0</td>\n",
       "      <td>4</td>\n",
       "      <td>2017</td>\n",
       "      <td>1</td>\n",
       "      <td>1</td>\n",
       "      <td>0</td>\n",
       "      <td>0.0</td>\n",
       "      <td>60.0</td>\n",
       "      <td>1.000000</td>\n",
       "    </tr>\n",
       "    <tr>\n",
       "      <th>1</th>\n",
       "      <td>2</td>\n",
       "      <td>1</td>\n",
       "      <td>0</td>\n",
       "      <td>4</td>\n",
       "      <td>2017</td>\n",
       "      <td>0</td>\n",
       "      <td>0</td>\n",
       "      <td>0</td>\n",
       "      <td>0.0</td>\n",
       "      <td>62.0</td>\n",
       "      <td>0.500000</td>\n",
       "    </tr>\n",
       "    <tr>\n",
       "      <th>2</th>\n",
       "      <td>3</td>\n",
       "      <td>1</td>\n",
       "      <td>0</td>\n",
       "      <td>4</td>\n",
       "      <td>2017</td>\n",
       "      <td>0</td>\n",
       "      <td>1</td>\n",
       "      <td>0</td>\n",
       "      <td>0.0</td>\n",
       "      <td>67.0</td>\n",
       "      <td>0.666667</td>\n",
       "    </tr>\n",
       "    <tr>\n",
       "      <th>3</th>\n",
       "      <td>4</td>\n",
       "      <td>1</td>\n",
       "      <td>0</td>\n",
       "      <td>4</td>\n",
       "      <td>2017</td>\n",
       "      <td>1</td>\n",
       "      <td>2</td>\n",
       "      <td>0</td>\n",
       "      <td>0.0</td>\n",
       "      <td>66.0</td>\n",
       "      <td>0.750000</td>\n",
       "    </tr>\n",
       "    <tr>\n",
       "      <th>4</th>\n",
       "      <td>115</td>\n",
       "      <td>1</td>\n",
       "      <td>0</td>\n",
       "      <td>8</td>\n",
       "      <td>2017</td>\n",
       "      <td>0</td>\n",
       "      <td>0</td>\n",
       "      <td>0</td>\n",
       "      <td>0.0</td>\n",
       "      <td>86.0</td>\n",
       "      <td>0.704348</td>\n",
       "    </tr>\n",
       "  </tbody>\n",
       "</table>\n",
       "</div>"
      ],
      "text/plain": [
       "   Game_ID  Opponent_Number Is_Weekend  Month  Year  Is_Day  Win_Streak  \\\n",
       "0        1                1          0      4  2017       1           1   \n",
       "1        2                1          0      4  2017       0           0   \n",
       "2        3                1          0      4  2017       0           1   \n",
       "3        4                1          0      4  2017       1           2   \n",
       "4      115                1          0      8  2017       0           0   \n",
       "\n",
       "   Bobble_head  precip  Temp   Win_Per  \n",
       "0            0     0.0  60.0  1.000000  \n",
       "1            0     0.0  62.0  0.500000  \n",
       "2            0     0.0  67.0  0.666667  \n",
       "3            0     0.0  66.0  0.750000  \n",
       "4            0     0.0  86.0  0.704348  "
      ]
     },
     "execution_count": 12,
     "metadata": {},
     "output_type": "execute_result"
    }
   ],
   "source": [
    "df4 = df3.drop(\"W-L\", axis=1)\n",
    "feature_names = df4.columns\n",
    "df4.head()"
   ]
  },
  {
   "cell_type": "code",
   "execution_count": 13,
   "metadata": {},
   "outputs": [
    {
     "data": {
      "text/html": [
       "<div>\n",
       "<style>\n",
       "    .dataframe thead tr:only-child th {\n",
       "        text-align: right;\n",
       "    }\n",
       "\n",
       "    .dataframe thead th {\n",
       "        text-align: left;\n",
       "    }\n",
       "\n",
       "    .dataframe tbody tr th {\n",
       "        vertical-align: top;\n",
       "    }\n",
       "</style>\n",
       "<table border=\"1\" class=\"dataframe\">\n",
       "  <thead>\n",
       "    <tr style=\"text-align: right;\">\n",
       "      <th></th>\n",
       "      <th>Game_ID</th>\n",
       "      <th>Opponent_Number</th>\n",
       "      <th>Is_Weekend</th>\n",
       "      <th>Month</th>\n",
       "      <th>Is_Day</th>\n",
       "      <th>Win_Streak</th>\n",
       "      <th>Bobble_head</th>\n",
       "      <th>precip</th>\n",
       "      <th>Temp</th>\n",
       "      <th>Win_Per</th>\n",
       "    </tr>\n",
       "  </thead>\n",
       "  <tbody>\n",
       "    <tr>\n",
       "      <th>0</th>\n",
       "      <td>1</td>\n",
       "      <td>1</td>\n",
       "      <td>0</td>\n",
       "      <td>4</td>\n",
       "      <td>1</td>\n",
       "      <td>1</td>\n",
       "      <td>0</td>\n",
       "      <td>0.0</td>\n",
       "      <td>60.0</td>\n",
       "      <td>1.000000</td>\n",
       "    </tr>\n",
       "    <tr>\n",
       "      <th>1</th>\n",
       "      <td>2</td>\n",
       "      <td>1</td>\n",
       "      <td>0</td>\n",
       "      <td>4</td>\n",
       "      <td>0</td>\n",
       "      <td>0</td>\n",
       "      <td>0</td>\n",
       "      <td>0.0</td>\n",
       "      <td>62.0</td>\n",
       "      <td>0.500000</td>\n",
       "    </tr>\n",
       "    <tr>\n",
       "      <th>2</th>\n",
       "      <td>3</td>\n",
       "      <td>1</td>\n",
       "      <td>0</td>\n",
       "      <td>4</td>\n",
       "      <td>0</td>\n",
       "      <td>1</td>\n",
       "      <td>0</td>\n",
       "      <td>0.0</td>\n",
       "      <td>67.0</td>\n",
       "      <td>0.666667</td>\n",
       "    </tr>\n",
       "    <tr>\n",
       "      <th>3</th>\n",
       "      <td>4</td>\n",
       "      <td>1</td>\n",
       "      <td>0</td>\n",
       "      <td>4</td>\n",
       "      <td>1</td>\n",
       "      <td>2</td>\n",
       "      <td>0</td>\n",
       "      <td>0.0</td>\n",
       "      <td>66.0</td>\n",
       "      <td>0.750000</td>\n",
       "    </tr>\n",
       "    <tr>\n",
       "      <th>4</th>\n",
       "      <td>115</td>\n",
       "      <td>1</td>\n",
       "      <td>0</td>\n",
       "      <td>8</td>\n",
       "      <td>0</td>\n",
       "      <td>0</td>\n",
       "      <td>0</td>\n",
       "      <td>0.0</td>\n",
       "      <td>86.0</td>\n",
       "      <td>0.704348</td>\n",
       "    </tr>\n",
       "  </tbody>\n",
       "</table>\n",
       "</div>"
      ],
      "text/plain": [
       "   Game_ID  Opponent_Number Is_Weekend  Month  Is_Day  Win_Streak  \\\n",
       "0        1                1          0      4       1           1   \n",
       "1        2                1          0      4       0           0   \n",
       "2        3                1          0      4       0           1   \n",
       "3        4                1          0      4       1           2   \n",
       "4      115                1          0      8       0           0   \n",
       "\n",
       "   Bobble_head  precip  Temp   Win_Per  \n",
       "0            0     0.0  60.0  1.000000  \n",
       "1            0     0.0  62.0  0.500000  \n",
       "2            0     0.0  67.0  0.666667  \n",
       "3            0     0.0  66.0  0.750000  \n",
       "4            0     0.0  86.0  0.704348  "
      ]
     },
     "execution_count": 13,
     "metadata": {},
     "output_type": "execute_result"
    }
   ],
   "source": [
    "#Drop Yer (was overweighting model)\n",
    "df5 = df4.drop(\"Year\", axis=1)\n",
    "feature_names = df5.columns\n",
    "df5.head()"
   ]
  },
  {
   "cell_type": "markdown",
   "metadata": {},
   "source": [
    "# Random Forest Regressor"
   ]
  },
  {
   "cell_type": "code",
   "execution_count": 14,
   "metadata": {
    "collapsed": true
   },
   "outputs": [],
   "source": [
    "#import Sklearn model and train_test split\n",
    "from sklearn.model_selection import train_test_split\n",
    "X_train, X_test, y_train, y_test = train_test_split(df5, target)"
   ]
  },
  {
   "cell_type": "code",
   "execution_count": 15,
   "metadata": {},
   "outputs": [
    {
     "data": {
      "text/plain": [
       "0.38813609288290873"
      ]
     },
     "execution_count": 15,
     "metadata": {},
     "output_type": "execute_result"
    }
   ],
   "source": [
    "# Create a random forest regressor\n",
    "rf = RandomForestRegressor(n_estimators=1000)\n",
    "rf = rf.fit(X_train, y_train)\n",
    "rf.score(X_test, y_test)"
   ]
  },
  {
   "cell_type": "markdown",
   "metadata": {},
   "source": [
    "# Feature Importances"
   ]
  },
  {
   "cell_type": "code",
   "execution_count": 17,
   "metadata": {},
   "outputs": [
    {
     "data": {
      "text/plain": [
       "array([0.1647847 , 0.11497927, 0.03909063, 0.03041605, 0.02512418,\n",
       "       0.04440792, 0.05641541, 0.04258731, 0.15094872, 0.33124581])"
      ]
     },
     "execution_count": 17,
     "metadata": {},
     "output_type": "execute_result"
    }
   ],
   "source": [
    "# Random Forests in sklearn will automatically calculate feature importance\n",
    "importances = rf.feature_importances_\n",
    "importances"
   ]
  },
  {
   "cell_type": "code",
   "execution_count": 18,
   "metadata": {
    "collapsed": true
   },
   "outputs": [],
   "source": [
    "#declare feature names\n",
    "feature_names= \"Game_ID\", \"Opponent_Number\", \"Is_Weekend\", \"Month\", \"Is_Day\", \"Win_Streak\", \"Bobble_head\", \"precip\",\"Temp\", \"Win_Per\""
   ]
  },
  {
   "cell_type": "code",
   "execution_count": 19,
   "metadata": {},
   "outputs": [
    {
     "data": {
      "text/plain": [
       "[(0.3312458085024503, 'Win_Per'),\n",
       " (0.16478469765317386, 'Game_ID'),\n",
       " (0.15094872106128235, 'Temp'),\n",
       " (0.11497927015227191, 'Opponent_Number'),\n",
       " (0.056415413695159296, 'Bobble_head'),\n",
       " (0.044407920418250334, 'Win_Streak'),\n",
       " (0.042587309365941885, 'precip'),\n",
       " (0.03909063290514322, 'Is_Weekend'),\n",
       " (0.030416048297802013, 'Month'),\n",
       " (0.025124177948524812, 'Is_Day')]"
      ]
     },
     "execution_count": 19,
     "metadata": {},
     "output_type": "execute_result"
    }
   ],
   "source": [
    "# We can sort the features by their importance\n",
    "sorted(zip(rf.feature_importances_, feature_names), reverse=True)"
   ]
  },
  {
   "cell_type": "markdown",
   "metadata": {},
   "source": [
    "# Pie Chart for feature importances"
   ]
  },
  {
   "cell_type": "code",
   "execution_count": 20,
   "metadata": {
    "collapsed": true
   },
   "outputs": [],
   "source": [
    "#import Matplotlib\n",
    "import matplotlib.pyplot as plt"
   ]
  },
  {
   "cell_type": "code",
   "execution_count": 75,
   "metadata": {
    "scrolled": true
   },
   "outputs": [
    {
     "data": {
      "image/png": "[encoded data removed]",
      "text/plain": [
       "<matplotlib.figure.Figure at 0x1a14362e10>"
      ]
     },
     "metadata": {},
     "output_type": "display_data"
    }
   ],
   "source": [
    "#Set parameters for Pie Chart\n",
    "import matplotlib.pyplot as plt\n",
    "import numpy as np\n",
    "\n",
    "# Where to change the size\n",
    "plt.figure(figsize=(10,10))\n",
    "\n",
    "x = np.char.array(['Win_Per','Game_ID', 'Temp', 'Opponent_Number', 'Bobble_head', 'Is_Weekend', 'Win_Streak', 'precip', 'Is_Day', 'Month'])\n",
    "y = np.array([0.3312458085024503, 0.16478469765317386, 0.15094872106128235, 0.11497927015227191, 0.056415413695159296, 0.044407920418250334,  0.042587309365941885, 0.03909063290514322, 0.030416048297802013, 0.025124177948524812])\n",
    "colors = ['yellowgreen','red','gold','lightskyblue','black','lightcoral','blue','pink', 'darkgreen','yellow']\n",
    "porcent = 100.*y/y.sum()\n",
    "\n",
    "patches, texts = plt.pie(y, colors=colors, startangle=90, radius=1.2)\n",
    "labels = ['{0} - {1:1.2f} %'.format(i,j) for i,j in zip(x, porcent)]\n",
    "\n",
    "sort_legend = True\n",
    "if sort_legend:\n",
    "    patches, labels, dummy =  zip(*sorted(zip(patches, labels, y),\n",
    "                                          key=lambda x: x[2],\n",
    "                                          reverse=True))\n",
    "\n",
    "plt.legend(patches, labels, loc='upper right', bbox_to_anchor=(-0.1, 1.),\n",
    "           fontsize=8)\n",
    "\n",
    "plt.savefig('Piechart.png')\n",
    "plt.show()"
   ]
  },
  {
   "cell_type": "code",
   "execution_count": 64,
   "metadata": {},
   "outputs": [],
   "source": [
    "#Save Pie chart as png\n",
    "plt.savefig('Piechart.png')"
   ]
  },
  {
   "cell_type": "markdown",
   "metadata": {},
   "source": [
    "# Save dataframe to CSV for Tableau visualizations"
   ]
  },
  {
   "cell_type": "code",
   "execution_count": 34,
   "metadata": {
    "collapsed": true
   },
   "outputs": [],
   "source": [
    "#Save df as csv for Tableau visualizations\n",
    "df2.to_csv(\"output.csv\", index=False)"
   ]
  },
  {
   "cell_type": "markdown",
   "metadata": {},
   "source": [
    "# Predict  attendance for win streaks of 0-5"
   ]
  },
  {
   "cell_type": "code",
   "execution_count": 53,
   "metadata": {},
   "outputs": [
    {
     "data": {
      "text/plain": [
       "array([47229.726, 47005.205, 46870.715, 46763.99 , 46980.118])"
      ]
     },
     "execution_count": 53,
     "metadata": {},
     "output_type": "execute_result"
    }
   ],
   "source": [
    "preds = []\n",
    "for win_streak in range(5):\n",
    "    pred = [1, 2, 1, 5, 1, win_streak, 0, 0.0, 75.0, 0.6]\n",
    "    preds.append(pred)\n",
    "rf.predict(preds)"
   ]
  }
 ],
 "metadata": {
  "kernelspec": {
   "display_name": "Python 3",
   "language": "python",
   "name": "python3"
  },
  "language_info": {
   "codemirror_mode": {
    "name": "ipython",
    "version": 3
   },
   "file_extension": ".py",
   "mimetype": "text/x-python",
   "name": "python",
   "nbconvert_exporter": "python",
   "pygments_lexer": "ipython3",
   "version": "3.6.3"
  }
 },
 "nbformat": 4,
 "nbformat_minor": 2
}
